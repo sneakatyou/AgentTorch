{
 "cells": [
  {
   "cell_type": "code",
   "execution_count": null,
   "metadata": {},
   "outputs": [],
   "source": [
    "from trainer_nca import TrainIsoNca\n",
    "from simulator import NCARunner, configure_nca\n",
    "from AgentTorch.helpers import read_config\n",
    "import argparse\n"
   ]
  },
  {
   "cell_type": "code",
   "execution_count": null,
   "metadata": {},
   "outputs": [],
   "source": [
    "class NcaConfig():\n",
    "    def __init__(self):\n",
    "        self.num_experiments = 1\n",
    "        self.ANGLE_CHN = [0]\n",
    "        self.CHN = [16]\n",
    "        self.DEFAULT_UPDATE_RATE = [0.5]\n",
    "\n",
    "        self.TARGET_P = [\"lizard\"] #@param ['circle','lizard', 'heart', 'smiley', 'lollipop', 'unicorn', 'spiderweb']\n",
    "        self.AUX_L_TYPE = [\"binary\"] #@param ['noaux', 'binary', 'minimal', 'extended']\n",
    "        self.H = self.W = [48]\n",
    "        self.model_type = [\"laplacian\"] #@param ['laplacian', 'lap6', 'lap_gradnorm', 'steerable', 'gradient', 'steerable_nolap']\n",
    "        self.sharpen = [\"sharpen\"]\n",
    "        self.mirror = [\"False\"]\n",
    "        self.hidden_n=[128]"
   ]
  },
  {
   "cell_type": "code",
   "execution_count": null,
   "metadata": {},
   "outputs": [],
   "source": [
    "config_file = \"/Users/shashankkumar/Documents/AgentTorch/models/nca/config.yaml\"\n",
    "\n",
    "config, registry = configure_nca(config_file)\n",
    "runner = NCARunner(read_config('/Users/shashankkumar/Documents/AgentTorch-original/AgentTorch/models/nca/config_nca.yaml'), registry)\n",
    "runner.init()\n",
    "trainer = TrainIsoNca(runner=runner)\n",
    "trainer.train()"
   ]
  }
 ],
 "metadata": {
  "kernelspec": {
   "display_name": "torch38",
   "language": "python",
   "name": "torch38"
  },
  "language_info": {
   "codemirror_mode": {
    "name": "ipython",
    "version": 3
   },
   "file_extension": ".py",
   "mimetype": "text/x-python",
   "name": "python",
   "nbconvert_exporter": "python",
   "pygments_lexer": "ipython3",
   "version": "3.8.16"
  },
  "orig_nbformat": 4
 },
 "nbformat": 4,
 "nbformat_minor": 2
}
