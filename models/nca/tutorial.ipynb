{
 "cells": [
  {
   "cell_type": "markdown",
   "metadata": {},
   "source": [
    "# INTRO TO AGENT TORCH\n",
    "\n",
    "\n",
    "## Example use case : Neural Cellular Automata"
   ]
  },
  {
   "cell_type": "markdown",
   "metadata": {},
   "source": [
    "In this tutorial, we will explore how to train a Neural Cellular Automata (NCA) model using PyTorch. Cellular Automata (CA) are discrete models studied in computer science, mathematics, physics, complexity science, and theoretical biology. NCAs are a type of CA that use neural networks for their update rules.\n",
    "\n",
    "The tutorial will guide you through the process of setting up the training environment, initializing the NCA model, and running the training process. We will also discuss how to interpret the output and evaluate the performance of the trained model.\n",
    "\n",
    "Let's get started!"
   ]
  },
  {
   "cell_type": "markdown",
   "metadata": {},
   "source": [
    "### Define the simulation metadata"
   ]
  },
  {
   "cell_type": "markdown",
   "metadata": {},
   "source": [
    "#### Generating `config.yaml` file"
   ]
  },
  {
   "cell_type": "markdown",
   "metadata": {},
   "source": [
    "You interface with the framework using a config.yaml file. This can be edited directly or can be edited programatically using the `configure_nca` method.\n",
    "Here we use configure_nca to generate config.yaml\n"
   ]
  },
  {
   "cell_type": "markdown",
   "metadata": {},
   "source": [
    "Through a dictionary like `params` we can set the metadata for our experiments.\n",
    "\n",
    "##### Parameters Dictionary\n",
    "\n",
    "The `params` dictionary contains configuration parameters for the model. Here's a brief description of each key-value pair:\n",
    "\n",
    "- `num_episodes`: The total number of episodes for the model to run. Default is `150000`.\n",
    "- `num_steps_per_episode`: The number of steps per episode. Default is `5`.\n",
    "- `num_substeps_per_step`: The number of substeps per step. Default is `1`.\n",
    "- `w`: The width of the model grid. Default is `48`.\n",
    "- `h`: The height of the model grid. Default is `48`.\n",
    "- `n_channels`: The number of channels in the model. Default is `16`.\n",
    "- `batch_size`: The size of the batch for the model. Default is `8`.\n",
    "- `hidden_size`: The size of the hidden layer in the model. Default is `128`.\n",
    "- `device`: The device to run the model on. Default is `\"cpu\"`.\n",
    "- `fire_rate`: The fire rate of the model. Default is `0.5`.\n",
    "- `angle`: The angle for the model. Default is `0.0`.\n",
    "- `learning_params`: A dictionary containing learning parameters for the model. It includes:\n",
    "  - `lr`: The learning rate. Default is `2e-3`.\n",
    "  - `betas`: The betas for the Adam optimizer. Default is `[0.5, 0.5]`.\n",
    "  - `lr_gamma`: The learning rate gamma. Default is `0.9999`.\n",
    "  - `model_path`: The path to save the model. Default is `\"saved_model.pth\"`.\n",
    "- `angle_chn`: The angle channel for the model. Default is `0`.\n",
    "- `chn`: The number of channels for the model. Default is `16`.\n",
    "- `scalar_chn`: The scalar channel for the model. Default is `16`.\n",
    "- `update_rate`: The update rate for the model. Default is `0.5`.\n",
    "- `seed_size`: The seed size for the model. Default is `1`.\n",
    "- `pool_size`: The pool size for the model. Default is `128`.\n",
    "- `target`: The target for the model. Default is `\"heart\"`.\n",
    "- `aux_l_type`: The auxiliary loss type for the model. Default is `\"binary\"`.\n",
    "- `model_type`: The type of the model. Default is `\"laplacian\"`.\n",
    "- `mirror`: Whether to mirror the model or not. Default is `False`.\n",
    "- `alive_threshold_value`: The alive threshold value for the model. Default is `0.1`.\n",
    "- `hex_grid`: Whether to use a hexagonal grid or not. Default is `False`."
   ]
  },
  {
   "cell_type": "code",
   "execution_count": 2,
   "metadata": {},
   "outputs": [],
   "source": [
    "params = {\n",
    "    \"num_episodes\": 150000,\n",
    "    \"num_steps_per_episode\": 5,\n",
    "    \"num_substeps_per_step\": 1,\n",
    "    \"w\": 48,\n",
    "    \"h\": 48,\n",
    "    \"n_channels\": 16,\n",
    "    \"batch_size\": 8,\n",
    "    \"hidden_size\": 128,\n",
    "    \"device\": \"cpu\",\n",
    "    \"fire_rate\": 0.5,\n",
    "    \"angle\": 0.0,\n",
    "    \"learning_params\": {\n",
    "        \"lr\": 2e-3,\n",
    "        \"betas\": [0.5, 0.5],\n",
    "        \"lr_gamma\": 0.9999,\n",
    "        \"model_path\": \"saved_model.pth\"\n",
    "    },\n",
    "    \"angle_chn\": 0,\n",
    "    \"chn\": 16,\n",
    "    \"scalar_chn\": 16,\n",
    "    \"update_rate\": 0.5,\n",
    "    \"seed_size\": 1,\n",
    "    \"pool_size\": 128,\n",
    "    \"target\": \"heart\",\n",
    "    \"aux_l_type\": \"binary\",\n",
    "    \"model_type\": \"laplacian\",\n",
    "    \"mirror\": False,\n",
    "    \"alive_threshold_value\": 0.1,\n",
    "    \"pool_size\": 128,\n",
    "    \"hex_grid\": False\n",
    "    }"
   ]
  },
  {
   "cell_type": "code",
   "execution_count": null,
   "metadata": {},
   "outputs": [],
   "source": [
    "from AgentTorch.models.nca.simulator import configure_nca\n",
    "#define the config file path\n",
    "config_file = \"/Users/shashankkumar/Documents/AgentTorchLatest/AgentTorch/models/nca/config.yaml\"\n",
    "config, registry = configure_nca(config_file,params)"
   ]
  },
  {
   "cell_type": "markdown",
   "metadata": {},
   "source": [
    "### Runner Initialisation"
   ]
  },
  {
   "cell_type": "markdown",
   "metadata": {},
   "source": [
    "We can now simply pass the `config, registry` to a class which inherits from Runner class. In our example we have `NCARunnerWithPool`, it is defined in the `simulator.py` file"
   ]
  },
  {
   "cell_type": "markdown",
   "metadata": {},
   "source": [
    "The `NCARunnerWithPool` class is a subclass of the `Runner` class. It is used to manage the state of a Neural Cellular Automata (NCA) during simulation and training.\n"
   ]
  },
  {
   "cell_type": "markdown",
   "metadata": {},
   "source": [
    "- `__init__(self, *args, **kwargs)`: Initializes the `NCARunnerWithPool` class.\n",
    "\n",
    "- `_nca_initialize_state(self, seed_size, i, len_loss)`: Initializes the state of the NCA, seeds the pool if it's `None`, and augments the input.\n",
    "\n",
    "- `augment_input(self, i, len_loss, x0)`: Augments the input state `x0` based on the current iteration `i` and the length of the loss `len_loss`.\n",
    "\n",
    "- `seed(self, pool_size, seed_size)`: Creates a seed state with a given `pool_size` and `seed_size`.\n",
    "\n",
    "- `reset(self, seed_size=1, i=0, len_loss=0)`: Resets the state of the NCA.\n",
    "\n",
    "- `update_pool(self, x)`: Updates the pool with a new state `x`, replacing the states at the batch indices."
   ]
  },
  {
   "cell_type": "code",
   "execution_count": null,
   "metadata": {},
   "outputs": [],
   "source": [
    "from AgentTorch.AgentTorch.helpers.general import read_config\n",
    "from AgentTorch.models.nca.simulator import NCARunnerWithPool\n",
    "\n",
    "runner = NCARunnerWithPool(read_config(config_file), registry)\n",
    "runner.init()"
   ]
  },
  {
   "cell_type": "markdown",
   "metadata": {},
   "source": [
    "The initialization phase of our simulation process is now complete. All necessary configurations and functions required for the execution of our simulation have been encapsulated within the `runner` object. \n",
    "\n",
    "The `runner` object serves as the primary driver of our simulation, responsible for executing the sequential steps that constitute the training process."
   ]
  },
  {
   "cell_type": "markdown",
   "metadata": {},
   "source": [
    "### Training"
   ]
  },
  {
   "cell_type": "markdown",
   "metadata": {},
   "source": [
    "This Python script contains the `TrainNca` class, which is used for training a Neural Cellular Automata (NCA) model. \n",
    "\n",
    "##### Class Initialization\n",
    "\n",
    "The `TrainNca` class is initialized with the following parameters:\n",
    "\n",
    "- `runner`: An instance of the `NCARunnerWithPool` class, which is used to run the NCA simulation.\n",
    "- `custom_loss_fn`: A custom loss function for training the NCA model. If not provided, the `InvariantLoss` function is used by default.\n",
    "- `target`: The target pattern for the NCA model to learn. If not provided, a target is generated using the `AddAuxilaryChannel` class.\n",
    "- `aux_target`: An auxiliary target pattern for the NCA model to learn. If not provided, an auxiliary target is generated using the `AddAuxilaryChannel` class.\n",
    "\n",
    "##### Class Methods\n",
    "\n",
    "The `TrainNca` class contains the following methods:\n",
    "\n",
    "- `train`: This method starts the training process of the NCA model. It iterates over a specified number of episodes, and for each episode, it performs a training step and saves the model's state.\n",
    "\n",
    "- `train_step`: This method performs a single training step. It resets the runner, performs a specified number of steps in the NCA simulation, calculates the loss, performs backpropagation, updates the model's parameters, and saves the output.\n",
    "\n",
    "- `calculate_loss`: This method calculates the loss for a training step. If a custom loss function is provided, it is used to calculate the loss. \n",
    "\n",
    "- `save_output`: This method saves the output of a training step. It also plots the loss curve, logs the loss curve and output images to wandb, and saves the model's state."
   ]
  },
  {
   "cell_type": "markdown",
   "metadata": {},
   "source": [
    "In the `TrainNca` class, several variables are used to configure the training process and the Neural Cellular Automata (NCA) model. Here is a brief description of these variables:\n",
    "\n",
    "- `target`: The target image for the NCA. Possible values include 'circle', 'lizard', 'heart', 'smiley', 'lollipop', 'unicorn', 'spiderweb'.\n",
    "  \n",
    "- `auxl_type`: The type of auxiliary channel. Possible values include 'noaux', 'binary', 'minimal', 'extended'.\n",
    "  \n",
    "- `model_type`: The type of the perception model to use. Possible values include 'laplacian', 'lap6', 'lap gradnorm', 'steerable', 'gradient', 'steerable nolap'.\n",
    "  \n",
    "- `alive_threshold`: The value above which a cell will be considered alive. The default value is 0.1.\n",
    "  \n",
    "- `chn`: The number of channels. The default value is 16.\n",
    "  \n",
    "- `angle_chn`: A boolean value indicating if there is a channel for angle or not. The default value is False.\n",
    "  \n",
    "- `w/h`: The width and height of the grid. The default value is 72.\n",
    "  \n",
    "- `hex_grid`: A boolean value indicating whether to use a hexagonal grid. The behavior is fixed but can be changed in `TrainNCA`. It is set to true if the model type is 'lap6'.\n",
    "  \n",
    "- `Kernel Used for Perception`: The kernel used for perception. New kernels can be added in the initialization of `IsoNCAOps` contained inside `utils.py`. Possible values include 'Identical', 'Sobel', 'Laplacian', 'Lap6', 'Gaussian'."
   ]
  },
  {
   "cell_type": "code",
   "execution_count": null,
   "metadata": {},
   "outputs": [],
   "source": [
    "from AgentTorch.models.nca.trainer_nca import TrainNca\n",
    "\n",
    "trainer = TrainNca(runner)\n",
    "trainer.train()"
   ]
  },
  {
   "cell_type": "markdown",
   "metadata": {},
   "source": [
    "### Summary\n",
    "##### We have now seen a simple example of training a NCA with AgentTorch. We can summarise the steps as :\n",
    "1) Define the simulation metadata\n",
    "2) Generate the config.yaml file\n",
    "3) Initialise the runner\n",
    "4) Train the model"
   ]
  },
  {
   "cell_type": "code",
   "execution_count": null,
   "metadata": {},
   "outputs": [],
   "source": [
    "config_file = \"/Users/shashankkumar/Documents/AgentTorchLatest/AgentTorch/models/nca/config.yaml\"\n",
    "    \n",
    "params = {\n",
    "\"num_episodes\": 150000,\n",
    "\"num_steps_per_episode\": 5,\n",
    "\"num_substeps_per_step\": 1,\n",
    "\"w\": 48,\n",
    "\"h\": 48,\n",
    "\"n_channels\": 16,\n",
    "\"batch_size\": 8,\n",
    "\"hidden_size\": 128,\n",
    "\"device\": \"cpu\",\n",
    "\"fire_rate\": 0.5,\n",
    "\"angle\": 0.0,\n",
    "\"learning_params\": {\n",
    "    \"lr\": 2e-3,\n",
    "    \"betas\": [0.5, 0.5],\n",
    "    \"lr_gamma\": 0.9999,\n",
    "    \"model_path\": \"saved_model.pth\"\n",
    "},\n",
    "\"angle_chn\": 0,\n",
    "\"chn\": 16,\n",
    "\"scalar_chn\": 16,\n",
    "\"update_rate\": 0.5,\n",
    "\"seed_size\": 1,\n",
    "\"pool_size\": 128,\n",
    "\"target\": \"heart\",\n",
    "\"aux_l_type\": \"binary\",\n",
    "\"model_type\": \"laplacian\",\n",
    "\"mirror\": False,\n",
    "\"alive_threshold_value\": 0.1,\n",
    "\"pool_size\": 128,\n",
    "\"hex_grid\": False\n",
    "}\n",
    "\n",
    "config, registry = configure_nca(config_file,params)\n",
    "runner = NCARunnerWithPool(read_config(config_file), registry)\n",
    "\n",
    "runner.init()\n",
    "trainer = TrainNca(runner)\n",
    "trainer.train()"
   ]
  },
  {
   "cell_type": "markdown",
   "metadata": {},
   "source": [
    "### How to provide custom networks for Observation, Action and Transition steps"
   ]
  },
  {
   "cell_type": "markdown",
   "metadata": {},
   "source": [
    "Lets see how we can experiment with different transition networks"
   ]
  },
  {
   "cell_type": "code",
   "execution_count": null,
   "metadata": {},
   "outputs": [],
   "source": [
    "import torch\n",
    "\n",
    "config_values = {\n",
    "    'n_channels': 16 \n",
    "}\n",
    "#define the custom network\n",
    "custom_network = torch.nn.Sequential(\n",
    "    torch.nn.Conv2d(config_values['n_channels'], config_values['n_channels'], 1),\n",
    "    torch.nn.ReLU(),\n",
    "    torch.nn.Conv2d(config_values['n_channels'], config_values['n_channels'], 1, bias=False)\n",
    ")\n",
    "config,registry = configure_nca(config_file,params,custom_transition_network=custom_network)\n",
    "#rest of the steps remain same"
   ]
  },
  {
   "cell_type": "markdown",
   "metadata": {},
   "source": [
    "To define a custom observation/action network we follow similar procedure, but we need to do one extra step.\n",
    "  \n",
    "  In the `simulator.py`, use `@set_custom_observation_network_factory/@set_custom_action_network_factory` on the class you want to modify\n",
    "\n",
    "Lets see how can pass the custom network to our desired observation or action class"
   ]
  },
  {
   "cell_type": "code",
   "execution_count": null,
   "metadata": {},
   "outputs": [],
   "source": [
    "from AgentTorch.AgentTorch.utils import set_custom_action_network_factory\n",
    "from substeps.evolve_cell.action import GenerateStateVector\n",
    "\n",
    "@set_custom_action_network_factory(custom_action_network[0])\n",
    "    class CustomGenerateStateVector(GenerateStateVector):\n",
    "        pass\n",
    "generate_state_vector =  conf.create_function(GenerateStateVector, input_variables={'cell_state': f'agents/{active_agent}/cell_state'}, output_variables=['StateVector'], fn_type=\"policy\")\n"
   ]
  },
  {
   "cell_type": "markdown",
   "metadata": {},
   "source": [
    "### Overriding Runner methods"
   ]
  },
  {
   "cell_type": "markdown",
   "metadata": {},
   "source": [
    "There is an utility function named `assign_method`, which can be used to override the methods of `runner` object. Define a function and call the assign method function with name of method you want to override"
   ]
  },
  {
   "cell_type": "code",
   "execution_count": null,
   "metadata": {},
   "outputs": [],
   "source": [
    "from AgentTorch.models.nca.substeps.utils import assign_method\n",
    "\n",
    "def reset_new(self, seed_size=1, i=0, len_loss=0):\n",
    "        x0 = self._nca_initialize_state(seed_size, i, len_loss)\n",
    "        self.state = self.initializer.state\n",
    "        self.state['agents']['automata']['cell_state'] = x0\n",
    "runner = NCARunnerWithPool(read_config(config_file), registry)\n",
    "assign_method(runner, 'reset', reset_new)\n"
   ]
  },
  {
   "cell_type": "markdown",
   "metadata": {},
   "source": [
    "### Running Multiple Experiments"
   ]
  },
  {
   "cell_type": "code",
   "execution_count": null,
   "metadata": {},
   "outputs": [],
   "source": [
    "#Define the params so that each key has a list of values, corresponding to each run\n",
    "params = {\n",
    "    \"num_episodes\": 150000,\n",
    "    \"num_steps_per_episode\": 5,\n",
    "    \"num_substeps_per_step\": 1,\n",
    "    \"w\": 48,\n",
    "    \"h\": 48,\n",
    "    \"n_channels\": [16,20,23],\n",
    "    \"batch_size\": 8,\n",
    "    \"hidden_size\": 128,\n",
    "    \"device\": \"cpu\",\n",
    "    \"fire_rate\": 0.5,\n",
    "    \"angle\": 0.0,\n",
    "    \"learning_params\": {\n",
    "        \"lr\": 2e-3,\n",
    "        \"betas\": [0.5, 0.5],\n",
    "        \"lr_gamma\": 0.9999,\n",
    "        \"model_path\": \"saved_model.pth\"\n",
    "    },\n",
    "    \"angle_chn\": 0,\n",
    "    \"chn\": 16,\n",
    "    \"scalar_chn\": 16,\n",
    "    \"update_rate\": 0.5,\n",
    "    \"seed_size\": 1,\n",
    "    \"pool_size\": 128,\n",
    "    \"target\": \"heart\",\n",
    "    \"aux_l_type\": \"binary\",\n",
    "    \"model_type\": \"laplacian\",\n",
    "    \"mirror\": False,\n",
    "    \"alive_threshold_value\": 0.1,\n",
    "    \"pool_size\": 128,\n",
    "    \"hex_grid\": False,\n",
    "    \"trainable_transition_network\" : True\n",
    "    }\n",
    "config_file = \"/Users/shashankkumar/Documents/AgentTorchLatest/AgentTorch/models/nca/config.yaml\"\n",
    "\n",
    "config, registry = configure_nca_with_multiple_exp(config_file,params)\n",
    "runner = NCARunnerWithPool(read_config(config_file), registry)\n",
    "\n",
    "runner.init()\n",
    "trainer = TrainNca(runner)\n",
    "trainer.train()"
   ]
  },
  {
   "cell_type": "code",
   "execution_count": 5,
   "metadata": {},
   "outputs": [],
   "source": [
    "from AgentTorch.AgentTorch.utils import create_dicts_based_on_length\n",
    "\n",
    "\n",
    "params = {\n",
    "    \"num_episodes\": 150000,\n",
    "    \"num_steps_per_episode\": 5,\n",
    "    \"num_substeps_per_step\": 1,\n",
    "    \"w\": 48,\n",
    "    \"h\": 48,\n",
    "    \"n_channels\": [16,20,23],\n",
    "    \"batch_size\": 8,\n",
    "    \"hidden_size\": 128,\n",
    "    \"device\": \"cpu\",\n",
    "    \"fire_rate\": 0.5,\n",
    "    \"angle\": 0.0,\n",
    "    \"learning_params\": {\n",
    "        \"lr\": 2e-3,\n",
    "        \"betas\": [0.5, 0.5],\n",
    "        \"lr_gamma\": 0.9999,\n",
    "        \"model_path\": \"saved_model.pth\"\n",
    "    },\n",
    "    \"angle_chn\": 0,\n",
    "    \"chn\": 16,\n",
    "    \"scalar_chn\": 16,\n",
    "    \"update_rate\": 0.5,\n",
    "    \"seed_size\": 1,\n",
    "    \"pool_size\": 128,\n",
    "    \"target\": \"heart\",\n",
    "    \"aux_l_type\": \"binary\",\n",
    "    \"model_type\": \"laplacian\",\n",
    "    \"mirror\": False,\n",
    "    \"alive_threshold_value\": 0.1,\n",
    "    \"pool_size\": 128,\n",
    "    \"hex_grid\": False,\n",
    "    \"trainable_transition_network\" : True\n",
    "    }\n",
    "\n",
    "dict_list = create_dicts_based_on_length(params)\n",
    "config_file = \"/Users/shashankkumar/Documents/AgentTorchLatest/AgentTorch/models/nca/config.yaml\"\n",
    "for dicts in dict_list:\n",
    "    print(dicts)\n",
    "    config, registry = configure_nca(config_file,dicts)\n",
    "    runner = NCARunnerWithPool(read_config(config_file), registry)\n",
    "\n",
    "    runner.init()\n",
    "    trainer = TrainNca(runner)\n",
    "    trainer.train()"
   ]
  },
  {
   "cell_type": "markdown",
   "metadata": {},
   "source": [
    "### Transfer Learning"
   ]
  },
  {
   "cell_type": "markdown",
   "metadata": {},
   "source": [
    "It is equivalent to providing a custom transition network"
   ]
  },
  {
   "cell_type": "code",
   "execution_count": null,
   "metadata": {},
   "outputs": [],
   "source": [
    "import torch\n",
    "\n",
    "#define params dictionary\n",
    "params = {...}\n",
    "#load the model\n",
    "model = torch.load(\"saved_model.pth\")\n",
    "#Freeze or add layers as needed\n",
    "# for param in model.parameters():\n",
    "#     if param.name in ['layer1', 'layer2']:\n",
    "#         param.requires_grad = False\n",
    "config,registry = configure_nca(config_file,params,custom_transition_network=model)\n",
    "runner = NCARunnerWithPool(read_config(config_file), registry)\n",
    "runner.init()\n",
    "trainer = TrainNca(runner)\n",
    "trainer.train()"
   ]
  }
 ],
 "metadata": {
  "kernelspec": {
   "display_name": "torch38",
   "language": "python",
   "name": "python3"
  },
  "language_info": {
   "codemirror_mode": {
    "name": "ipython",
    "version": 3
   },
   "file_extension": ".py",
   "mimetype": "text/x-python",
   "name": "python",
   "nbconvert_exporter": "python",
   "pygments_lexer": "ipython3",
   "version": "3.8.16"
  }
 },
 "nbformat": 4,
 "nbformat_minor": 2
}
