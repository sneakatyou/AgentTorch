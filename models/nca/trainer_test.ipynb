{
 "cells": [
  {
   "cell_type": "code",
   "execution_count": 1,
   "metadata": {},
   "outputs": [
    {
     "name": "stderr",
     "output_type": "stream",
     "text": [
      "/Users/shashankkumar/anaconda3/envs/torch38/lib/python3.8/site-packages/torchvision/transforms/functional_tensor.py:5: UserWarning: The torchvision.transforms.functional_tensor module is deprecated in 0.15 and will be **removed in 0.17**. Please don't rely on it. You probably just need to use APIs in torchvision.transforms.functional or in torchvision.transforms.v2.functional.\n",
      "  warnings.warn(\n"
     ]
    }
   ],
   "source": [
    "from trainer_nca import TrainIsoNca\n",
    "from simulator import NCARunner, configure_nca\n",
    "from AgentTorch.helpers import read_config\n",
    "import argparse\n"
   ]
  },
  {
   "cell_type": "code",
   "execution_count": 2,
   "metadata": {},
   "outputs": [],
   "source": [
    "class NcaConfig():\n",
    "    def __init__(self):\n",
    "        self.num_experiments = 1\n",
    "        self.ANGLE_CHN = [0]\n",
    "        self.CHN = [16]\n",
    "        self.DEFAULT_UPDATE_RATE = [0.5]\n",
    "\n",
    "        self.TARGET_P = [\"lizard\"] #@param ['circle','lizard', 'heart', 'smiley', 'lollipop', 'unicorn', 'spiderweb']\n",
    "        self.AUX_L_TYPE = [\"binary\"] #@param ['noaux', 'binary', 'minimal', 'extended']\n",
    "        self.H = self.W = [48]\n",
    "        self.model_type = [\"laplacian\"] #@param ['laplacian', 'lap6', 'lap_gradnorm', 'steerable', 'gradient', 'steerable_nolap']\n",
    "        self.sharpen = [\"sharpen\"]\n",
    "        self.mirror = [\"False\"]\n",
    "        self.hidden_n=[128]"
   ]
  },
  {
   "cell_type": "code",
   "execution_count": 3,
   "metadata": {},
   "outputs": [
    {
     "name": "stdout",
     "output_type": "stream",
     "text": [
      "resolvers already registered..\n",
      "Skipping..  environment\n"
     ]
    },
    {
     "ename": "AttributeError",
     "evalue": "'dict' object has no attribute 'pool_size'",
     "output_type": "error",
     "traceback": [
      "\u001b[0;31m---------------------------------------------------------------------------\u001b[0m",
      "\u001b[0;31mAttributeError\u001b[0m                            Traceback (most recent call last)",
      "\u001b[1;32m/Users/shashankkumar/Documents/AgentTorch-original/AgentTorch/models/nca/trainer_test.ipynb Cell 3\u001b[0m line \u001b[0;36m5\n\u001b[1;32m      <a href='vscode-notebook-cell:/Users/shashankkumar/Documents/AgentTorch-original/AgentTorch/models/nca/trainer_test.ipynb#W2sZmlsZQ%3D%3D?line=2'>3</a>\u001b[0m config, registry \u001b[39m=\u001b[39m configure_nca(config_file)\n\u001b[1;32m      <a href='vscode-notebook-cell:/Users/shashankkumar/Documents/AgentTorch-original/AgentTorch/models/nca/trainer_test.ipynb#W2sZmlsZQ%3D%3D?line=3'>4</a>\u001b[0m runner \u001b[39m=\u001b[39m NCARunner(read_config(\u001b[39m'\u001b[39m\u001b[39m/Users/shashankkumar/Documents/AgentTorch-original/AgentTorch/models/nca/config_nca.yaml\u001b[39m\u001b[39m'\u001b[39m), registry)\n\u001b[0;32m----> <a href='vscode-notebook-cell:/Users/shashankkumar/Documents/AgentTorch-original/AgentTorch/models/nca/trainer_test.ipynb#W2sZmlsZQ%3D%3D?line=4'>5</a>\u001b[0m runner\u001b[39m.\u001b[39;49minit()\n\u001b[1;32m      <a href='vscode-notebook-cell:/Users/shashankkumar/Documents/AgentTorch-original/AgentTorch/models/nca/trainer_test.ipynb#W2sZmlsZQ%3D%3D?line=5'>6</a>\u001b[0m trainer \u001b[39m=\u001b[39m TrainIsoNca(runner\u001b[39m=\u001b[39mrunner)\n\u001b[1;32m      <a href='vscode-notebook-cell:/Users/shashankkumar/Documents/AgentTorch-original/AgentTorch/models/nca/trainer_test.ipynb#W2sZmlsZQ%3D%3D?line=6'>7</a>\u001b[0m trainer\u001b[39m.\u001b[39mtrain()\n",
      "File \u001b[0;32m~/Documents/AgentTorch-original/AgentTorch/AgentTorch/runner.py:36\u001b[0m, in \u001b[0;36mRunner.init\u001b[0;34m(self)\u001b[0m\n\u001b[1;32m     32\u001b[0m \u001b[39mdef\u001b[39;00m \u001b[39minit\u001b[39m(\u001b[39mself\u001b[39m):\n\u001b[1;32m     33\u001b[0m \u001b[39m    \u001b[39m\u001b[39mr\u001b[39m\u001b[39m\"\"\"\u001b[39;00m\n\u001b[1;32m     34\u001b[0m \u001b[39m        initialize the state of the simulation\u001b[39;00m\n\u001b[1;32m     35\u001b[0m \u001b[39m    \"\"\"\u001b[39;00m\n\u001b[0;32m---> 36\u001b[0m     \u001b[39mself\u001b[39;49m\u001b[39m.\u001b[39;49minitializer\u001b[39m.\u001b[39;49minitialize()\n\u001b[1;32m     37\u001b[0m     \u001b[39mself\u001b[39m\u001b[39m.\u001b[39mstate \u001b[39m=\u001b[39m \u001b[39mself\u001b[39m\u001b[39m.\u001b[39minitializer\u001b[39m.\u001b[39mstate\n\u001b[1;32m     39\u001b[0m     \u001b[39mself\u001b[39m\u001b[39m.\u001b[39mstate_trajectory \u001b[39m=\u001b[39m []\n",
      "File \u001b[0;32m~/Documents/AgentTorch-original/AgentTorch/AgentTorch/initializer.py:218\u001b[0m, in \u001b[0;36mInitializer.initialize\u001b[0;34m(self)\u001b[0m\n\u001b[1;32m    215\u001b[0m \u001b[39mself\u001b[39m\u001b[39m.\u001b[39mstate[\u001b[39m\"\u001b[39m\u001b[39mcurrent_step\u001b[39m\u001b[39m\"\u001b[39m] \u001b[39m=\u001b[39m \u001b[39m0\u001b[39m\n\u001b[1;32m    216\u001b[0m \u001b[39mself\u001b[39m\u001b[39m.\u001b[39mstate[\u001b[39m\"\u001b[39m\u001b[39mcurrent_substep\u001b[39m\u001b[39m\"\u001b[39m] \u001b[39m=\u001b[39m \u001b[39m'\u001b[39m\u001b[39m0\u001b[39m\u001b[39m'\u001b[39m \u001b[39m# use string not int for nn.ModuleDict\u001b[39;00m\n\u001b[0;32m--> 218\u001b[0m \u001b[39mself\u001b[39;49m\u001b[39m.\u001b[39;49msimulator()\n\u001b[1;32m    220\u001b[0m \u001b[39mprint\u001b[39m(\u001b[39m\"\u001b[39m\u001b[39mSimulator initialization done..\u001b[39m\u001b[39m\"\u001b[39m)\n\u001b[1;32m    222\u001b[0m \u001b[39mself\u001b[39m\u001b[39m.\u001b[39msubsteps()\n",
      "File \u001b[0;32m~/Documents/AgentTorch-original/AgentTorch/AgentTorch/initializer.py:169\u001b[0m, in \u001b[0;36mInitializer.simulator\u001b[0;34m(self)\u001b[0m\n\u001b[1;32m    166\u001b[0m \u001b[39mdef\u001b[39;00m \u001b[39msimulator\u001b[39m(\u001b[39mself\u001b[39m):\n\u001b[1;32m    167\u001b[0m     \u001b[39mself\u001b[39m\u001b[39m.\u001b[39menvironment()\n\u001b[0;32m--> 169\u001b[0m     \u001b[39mself\u001b[39;49m\u001b[39m.\u001b[39;49magents_objects(key\u001b[39m=\u001b[39;49m\u001b[39m\"\u001b[39;49m\u001b[39magents\u001b[39;49m\u001b[39m\"\u001b[39;49m)\n\u001b[1;32m    170\u001b[0m     \u001b[39mself\u001b[39m\u001b[39m.\u001b[39magents_objects(key\u001b[39m=\u001b[39m\u001b[39m\"\u001b[39m\u001b[39mobjects\u001b[39m\u001b[39m\"\u001b[39m)\n\u001b[1;32m    171\u001b[0m     \u001b[39mself\u001b[39m\u001b[39m.\u001b[39mnetwork()\n",
      "File \u001b[0;32m~/Documents/AgentTorch-original/AgentTorch/AgentTorch/initializer.py:144\u001b[0m, in \u001b[0;36mInitializer.agents_objects\u001b[0;34m(self, key)\u001b[0m\n\u001b[1;32m    142\u001b[0m \u001b[39mfor\u001b[39;00m prop \u001b[39min\u001b[39;00m instance_properties\u001b[39m.\u001b[39mkeys():\n\u001b[1;32m    143\u001b[0m     property_object \u001b[39m=\u001b[39m instance_properties[prop]\n\u001b[0;32m--> 144\u001b[0m     \u001b[39mself\u001b[39m\u001b[39m.\u001b[39mstate[key][instance_type][prop] \u001b[39m=\u001b[39m \u001b[39mself\u001b[39;49m\u001b[39m.\u001b[39;49m_initialize_property(property_object, property_key\u001b[39m=\u001b[39;49m\u001b[39mf\u001b[39;49m\u001b[39m\"\u001b[39;49m\u001b[39m{\u001b[39;49;00mkey\u001b[39m}\u001b[39;49;00m\u001b[39m_\u001b[39;49m\u001b[39m{\u001b[39;49;00minstance_type\u001b[39m}\u001b[39;49;00m\u001b[39m_\u001b[39;49m\u001b[39m{\u001b[39;49;00mprop\u001b[39m}\u001b[39;49;00m\u001b[39m\"\u001b[39;49m)\n",
      "File \u001b[0;32m~/Documents/AgentTorch-original/AgentTorch/AgentTorch/initializer.py:75\u001b[0m, in \u001b[0;36mInitializer._initialize_property\u001b[0;34m(self, property_object, property_key)\u001b[0m\n\u001b[1;32m     73\u001b[0m     property_value \u001b[39m=\u001b[39m \u001b[39mself\u001b[39m\u001b[39m.\u001b[39m_initialize_from_default(property_object[\u001b[39m\"\u001b[39m\u001b[39mvalue\u001b[39m\u001b[39m\"\u001b[39m], property_shape)\n\u001b[1;32m     74\u001b[0m \u001b[39melse\u001b[39;00m:\n\u001b[0;32m---> 75\u001b[0m     property_value \u001b[39m=\u001b[39m \u001b[39mself\u001b[39;49m\u001b[39m.\u001b[39;49m_initialize_from_generator(property_initializer, property_shape, property_key)\n\u001b[1;32m     77\u001b[0m \u001b[39mif\u001b[39;00m property_is_learnable:\n\u001b[1;32m     78\u001b[0m     \u001b[39mself\u001b[39m\u001b[39m.\u001b[39mlearnable_parameters[property_key] \u001b[39m=\u001b[39m property_value\n",
      "File \u001b[0;32m~/Documents/AgentTorch-original/AgentTorch/AgentTorch/initializer.py:61\u001b[0m, in \u001b[0;36mInitializer._initialize_from_generator\u001b[0;34m(self, initializer_object, initialize_shape, name_root)\u001b[0m\n\u001b[1;32m     58\u001b[0m     \u001b[39melse\u001b[39;00m:\n\u001b[1;32m     59\u001b[0m         \u001b[39mself\u001b[39m\u001b[39m.\u001b[39mfixed_parameters[arg_name] \u001b[39m=\u001b[39m arg_value\n\u001b[0;32m---> 61\u001b[0m init_value \u001b[39m=\u001b[39m \u001b[39mself\u001b[39;49m\u001b[39m.\u001b[39;49mregistry\u001b[39m.\u001b[39;49minitialization_helpers[function](initialize_shape, params)\n\u001b[1;32m     63\u001b[0m \u001b[39mreturn\u001b[39;00m init_value\n",
      "File \u001b[0;32m~/Documents/AgentTorch-original/AgentTorch/models/nca/substeps/utils.py:40\u001b[0m, in \u001b[0;36mnca_initialize_state_pool\u001b[0;34m(shape, params)\u001b[0m\n\u001b[1;32m     39\u001b[0m \u001b[39mdef\u001b[39;00m \u001b[39mnca_initialize_state_pool\u001b[39m(shape, params):\n\u001b[0;32m---> 40\u001b[0m         x \u001b[39m=\u001b[39m torch\u001b[39m.\u001b[39mzeros(params\u001b[39m.\u001b[39;49mpool_size, params\u001b[39m.\u001b[39mchn, params\u001b[39m.\u001b[39mw, params\u001b[39m.\u001b[39mh)\n\u001b[1;32m     41\u001b[0m         \u001b[39mif\u001b[39;00m params\u001b[39m.\u001b[39mscalar_chn \u001b[39m!=\u001b[39m params\u001b[39m.\u001b[39mchn:\n\u001b[1;32m     42\u001b[0m             x[:,\u001b[39m-\u001b[39m\u001b[39m1\u001b[39m] \u001b[39m=\u001b[39m torch\u001b[39m.\u001b[39mrand(params\u001b[39m.\u001b[39mpool_size, \u001b[39mself\u001b[39m\u001b[39m.\u001b[39mconfig[\u001b[39m'\u001b[39m\u001b[39msimulation_metadata\u001b[39m\u001b[39m'\u001b[39m][\u001b[39m'\u001b[39m\u001b[39mw\u001b[39m\u001b[39m'\u001b[39m], \u001b[39mself\u001b[39m\u001b[39m.\u001b[39mconfig[\u001b[39m'\u001b[39m\u001b[39msimulation_metadata\u001b[39m\u001b[39m'\u001b[39m][\u001b[39m'\u001b[39m\u001b[39mh\u001b[39m\u001b[39m'\u001b[39m])\u001b[39m*\u001b[39mnp\u001b[39m.\u001b[39mpi\u001b[39m*\u001b[39m\u001b[39m2.0\u001b[39m\n",
      "\u001b[0;31mAttributeError\u001b[0m: 'dict' object has no attribute 'pool_size'"
     ]
    }
   ],
   "source": [
    "config_file = \"/Users/shashankkumar/Documents/AgentTorch/models/nca/config.yaml\"\n",
    "\n",
    "config, registry = configure_nca(config_file)\n",
    "runner = NCARunner(read_config('/Users/shashankkumar/Documents/AgentTorch-original/AgentTorch/models/nca/config_nca.yaml'), registry)\n",
    "runner.init()\n",
    "trainer = TrainIsoNca(runner=runner)\n",
    "trainer.train()"
   ]
  }
 ],
 "metadata": {
  "kernelspec": {
   "display_name": "torch38",
   "language": "python",
   "name": "torch38"
  },
  "language_info": {
   "codemirror_mode": {
    "name": "ipython",
    "version": 3
   },
   "file_extension": ".py",
   "mimetype": "text/x-python",
   "name": "python",
   "nbconvert_exporter": "python",
   "pygments_lexer": "ipython3",
   "version": "3.8.16"
  },
  "orig_nbformat": 4
 },
 "nbformat": 4,
 "nbformat_minor": 2
}
